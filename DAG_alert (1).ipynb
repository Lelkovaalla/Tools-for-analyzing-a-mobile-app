{
 "cells": [
  {
   "cell_type": "markdown",
   "metadata": {},
   "source": [
    "### Настройка системы оповещений об аномалиях"
   ]
  },
  {
   "cell_type": "markdown",
   "metadata": {},
   "source": [
    "Необходимо настроить систему алертов, которая будет сообщать об аномалиях в данных мобильного приложения. Система должна с периодичность каждые 30 минут проверять ключевые метрики, такие как активные пользователи, просмотры, лайки, CTR. "
   ]
  },
  {
   "cell_type": "markdown",
   "metadata": {},
   "source": [
    "Для реализации поставленной задачи напишем DAG, который подгрузим в Apache Airflow. Данная программа позволит ежедневно с заданной периодичностью обрабатывать скрипт и в случае фиксации аномалий запускать рассылку с использованием телеграм-бота."
   ]
  },
  {
   "cell_type": "code",
   "execution_count": 1,
   "metadata": {},
   "outputs": [],
   "source": [
    "#импортируем необходимые библиотеки\n",
    "import requests\n",
    "import json\n",
    "from urllib.parse import urlencode\n",
    "import pandahouse\n",
    "import seaborn as sns \n",
    "import io\n",
    "import matplotlib.pyplot as plt\n",
    "from airflow.decorators import dag, task\n",
    "from airflow.operators.python import get_current_context\n",
    "from airflow.models import Variable\n",
    "from datetime import timedelta\n",
    "from datetime import datetime"
   ]
  },
  {
   "cell_type": "code",
   "execution_count": 2,
   "metadata": {},
   "outputs": [],
   "source": [
    "#зададим параметры DAG\n",
    "default_args = {\n",
    "    'owner': 'a-lelkova',\n",
    "    'depends_on_past': False,\n",
    "    'retries': 3,\n",
    "    'retry_delay': timedelta(minutes=5),\n",
    "    'start_date': datetime(2024, 8, 29)   \n",
    "}"
   ]
  },
  {
   "cell_type": "markdown",
   "metadata": {},
   "source": [
    "Перед написанием скрипта в телеграм создадим бота, дадим ему имя и уникальный никнейм, запустим его и скопируем token.\n",
    "\n",
    "Чтобы узнать id необходимого чата, в строку поиска браузера вставим https://api.telegram.org/bot{token}/getUpdates и подставим token нашего бота.\n",
    "\n",
    "В открывшемся окне будет содержание json файла, где будет содержаться id чата (result > 0 > chat > id)."
   ]
  },
  {
   "cell_type": "code",
   "execution_count": 5,
   "metadata": {},
   "outputs": [],
   "source": [
    "#напишем скрипт для выявления аномалий и оформим его в DAG\n",
    "@dag('lelkova_alert_DAG',default_args=default_args, schedule_interval='*/30 * * * *', catchup=False)\n",
    "def lelkova_alert_DAG():\n",
    "    #все расчеты будут производится в рамках одного таска \n",
    "    @task(retries=3)\n",
    "    def alert():\n",
    "        #параметры подключения к clickhouse\n",
    "        connection = {\n",
    "              'host': 'https://clickhouse.lab.karpov.courses',\n",
    "              'password': 'dpo_python_2020',\n",
    "              'user': 'student',\n",
    "              'database': 'simulator_20240620'\n",
    "                    }\n",
    "        #импорт данных из clickhouse\n",
    "        q = '''WITH actions AS (SELECT \n",
    "                    toDate(time) AS action_date,  \n",
    "                    formatDateTime(toStartOfFifteenMinutes(time), '%H:%M:%S') AS formatted_time,  \n",
    "                    count(distinct user_id ) AS active_users,\n",
    "                    countIf(action = 'view') AS views,\n",
    "                    countIf(action = 'like') AS likes\n",
    "                FROM simulator_20240620.feed_actions\n",
    "                GROUP BY action_date, formatted_time \n",
    "                ORDER BY action_date desc, formatted_time desc\n",
    "                )\n",
    "\n",
    "                SELECT \n",
    "                    numbers.action_date,\n",
    "                    formatted_time,\n",
    "                    active_users,\n",
    "                    views,\n",
    "                    likes,\n",
    "                    likes / views AS CTR\n",
    "                FROM \n",
    "                    (\n",
    "                        SELECT toDate(now() - INTERVAL number DAY) AS action_date\n",
    "                        FROM system.numbers\n",
    "                        WHERE number > 0\n",
    "                        LIMIT 30\n",
    "                    ) AS numbers\n",
    "                RIGHT JOIN \n",
    "                    actions\n",
    "                ON \n",
    "                    numbers.action_date = actions.action_date\n",
    "                WHERE   numbers.action_date >= now() - INTERVAL 30 DAY\n",
    "                AND numbers.action_date != '1070-01-01'\n",
    "                AND  actions.formatted_time >= formatDateTime(now() - INTERVAL 15 MINUTE, '%H:%M:%S')\n",
    "                AND  actions.formatted_time < formatDateTime(now(), '%H:%M:%S')\n",
    "        '''\n",
    "        df_history = pandahouse.read_clickhouse(q, connection=connection)\n",
    "        \n",
    "        #зададим функцию, которая будет проверять данные с помощью метода IQR\n",
    "        def anomalies_check(df, column_name):\n",
    "            #посчитаем первый и третий квартили и межквартильный размах\n",
    "            Q1 = df[column_name].quantile(0.25)\n",
    "            Q3 = df[column_name].quantile(0.75)\n",
    "            IQR = Q3 - Q1\n",
    "            #зададим верхнюю и нижнюю границы\n",
    "            #коэффициент равный 6.5 выбран на основе наблюдения за изменением метрик*\n",
    "            lower_bound = Q1 - 6.5 * IQR\n",
    "            upper_bound = Q3 + 6.5 * IQR\n",
    "            #значения, выходящие за границы, запишем в датафрейм\n",
    "            anomalies_iqr = df[(df[column_name] < lower_bound) | (df[column_name] > upper_bound)]\n",
    "            return anomalies_iqr\n",
    "        #применим функцию к интересующим нас столбцам\n",
    "        anomalies_users = anomalies_check(df_history, 'active_users')\n",
    "        anomalies_likes = anomalies_check(df_history, 'likes')\n",
    "        anomalies_views = anomalies_check(df_history, 'views')\n",
    "        anomalies_CTR = anomalies_check(df_history, 'CTR')\n",
    "\n",
    "        # пишем систему оповещений при обнаружеии аномалий в метрике active_users\n",
    "        if not anomalies_users.empty:\n",
    "            # записываем в переменную аномальное значение метрики\n",
    "            users_anomal = anomalies_users.active_users.iloc[0]\n",
    "            #считаем отклонение аномального значения от среднего в %\n",
    "            users_median = df_history.active_users.median()\n",
    "            deviation_users = (((users_anomal - users_median) / users_median) * 100).round(2)\n",
    "            #пишем текст для оповещения и задаем параметры\n",
    "            chat_id = 432320975\n",
    "            token = '7189949223:AAFbFkFXxHtw8oq3C2JbYHFqgI5eqccInnM'\n",
    "            msg = f\"Обнаружены аномалии! \\nactive users = {users_anomal}. \\nОтклонение {deviation_users}%\"\n",
    "            params = {'chat_id': chat_id, 'text': msg}\n",
    "\n",
    "            base_url = f'https://api.telegram.org/bot7189949223:AAFbFkFXxHtw8oq3C2JbYHFqgI5eqccInnM/'\n",
    "            url = base_url + 'sendMessage?' + urlencode(params)\n",
    "            #если аномалия будет зафиксировано, наше уведомление направится в чат\n",
    "            resp = requests.get(url)\n",
    "        #аналогично пишем систему оповещений при обнаружеии аномалий в метрике likes\n",
    "        if not anomalies_likes.empty:\n",
    "            likes_anomal = anomalies_likes.likes.iloc[0]\n",
    "            likes_median = df_history.likes.median()\n",
    "            deviation_likes = (((likes_anomal - likes_median) / likes_median) * 100).round(2)\n",
    "            chat_id = 432320975\n",
    "            token = '7189949223:AAFbFkFXxHtw8oq3C2JbYHFqgI5eqccInnM'\n",
    "            msg = f\"Обнаружены аномалии! \\nlikes = {likes_anomal}. \\nОтклонение {deviation_likes}%\"\n",
    "            params = {'chat_id': chat_id, 'text': msg}\n",
    "\n",
    "            base_url = f'https://api.telegram.org/bot7189949223:AAFbFkFXxHtw8oq3C2JbYHFqgI5eqccInnM/'\n",
    "            url = base_url + 'sendMessage?' + urlencode(params)\n",
    "\n",
    "            resp = requests.get(url)\n",
    "        #аналогично пишем систему оповещений при обнаружеии аномалий в метрике views\n",
    "        if not anomalies_views.empty:\n",
    "            views_anomal = anomalies_views.views.iloc[0]\n",
    "            views_median = df_history.views.median()\n",
    "            deviation_views = (((views_anomal - views_median) / views_median) * 100).round(2)\n",
    "            chat_id = 432320975\n",
    "            token = '7189949223:AAFbFkFXxHtw8oq3C2JbYHFqgI5eqccInnM'\n",
    "            msg = f\"Обнаружены аномалии! \\nviews = {views_anomal}. \\nОтклонение {deviation_views}%\"\n",
    "            params = {'chat_id': chat_id, 'text': msg}\n",
    "\n",
    "            base_url = f'https://api.telegram.org/bot7189949223:AAFbFkFXxHtw8oq3C2JbYHFqgI5eqccInnM/'\n",
    "            url = base_url + 'sendMessage?' + urlencode(params)\n",
    "\n",
    "            resp = requests.get(url)\n",
    "        #аналогично пишем систему оповещений при обнаружеии аномалий в метрике CTR\n",
    "        if not anomalies_CTR.empty:\n",
    "            CTR_anomal = anomalies_CTR.CTR.iloc[0]\n",
    "            CTR_median = df_history.CTR.median()\n",
    "            deviation_CTR = (((CTR_anomal - CTR_median) / CTR_median) * 100).round(2)\n",
    "            chat_id = 432320975\n",
    "            token = '7189949223:AAFbFkFXxHtw8oq3C2JbYHFqgI5eqccInnM'\n",
    "            msg = f\"Обнаружены аномалии! \\nCTR = {CTR_anomal}. \\nОтклонение {deviation_CTR}%\"\n",
    "            params = {'chat_id': chat_id, 'text': msg}\n",
    "\n",
    "            base_url = f'https://api.telegram.org/bot7189949223:AAFbFkFXxHtw8oq3C2JbYHFqgI5eqccInnM/'\n",
    "            url = base_url + 'sendMessage?' + urlencode(params)\n",
    "\n",
    "            resp = requests.get(url)\n",
    "\n",
    "        else:\n",
    "            print('Ok')\n",
    "        \n",
    "\n",
    "    alert()"
   ]
  },
  {
   "cell_type": "code",
   "execution_count": 4,
   "metadata": {},
   "outputs": [],
   "source": [
    "lelkova_alert_DAG = lelkova_alert_DAG()"
   ]
  },
  {
   "cell_type": "markdown",
   "metadata": {},
   "source": [
    "После загрузки данного файла в формате .py через репозиторий в Airflow скрипт будет отрабатываться каждые 30 минут и проверять данные на аномалии. В случае обнаружения аномального значения в какой-либо из метрик телеграм бот будет направлять рассылку с оповещением в указанный чат."
   ]
  },
  {
   "cell_type": "markdown",
   "metadata": {},
   "source": [
    "*для каждой из отслеживаемых метрик были получены максимальное и минимальное значение за последние три месяца, рассчитано %-отклонение максимального и минимального значений от среднего (около 20-25% в обе стороны для всех метрик). Методом подбора было выбрано значение коэффициента, который улавливает значения которые отклоняются больше/меньше чем на 25% от среднего, и не улавливает колебания в пределах 25%, которые являются вариантом нормы."
   ]
  },
  {
   "cell_type": "code",
   "execution_count": null,
   "metadata": {},
   "outputs": [],
   "source": []
  }
 ],
 "metadata": {
  "kernelspec": {
   "display_name": "Python 3",
   "language": "python",
   "name": "python3"
  },
  "language_info": {
   "codemirror_mode": {
    "name": "ipython",
    "version": 3
   },
   "file_extension": ".py",
   "mimetype": "text/x-python",
   "name": "python",
   "nbconvert_exporter": "python",
   "pygments_lexer": "ipython3",
   "version": "3.7.3"
  }
 },
 "nbformat": 4,
 "nbformat_minor": 4
}
