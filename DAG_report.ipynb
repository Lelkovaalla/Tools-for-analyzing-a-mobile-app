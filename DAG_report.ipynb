{
 "cells": [
  {
   "cell_type": "markdown",
   "metadata": {},
   "source": [
    "### Автоматизация отчетности"
   ]
  },
  {
   "cell_type": "markdown",
   "metadata": {},
   "source": [
    "Продуктовая команда попросила настроить ежедневную рассылку в телеграм с отчетом по ленте новостей. Отчет должен состоять из двух частей:\n",
    "- текст с информацией о значениях ключевых метрик за предыдущий день\n",
    "- график с отображением динамики DAU за предыдущие 7 дней\n",
    "\n",
    "В отчете должны быть отражены следующие ключевые метрики: \n",
    "- DAU \n",
    "- Просмотры\n",
    "- Лайки\n",
    "- CTR\n",
    "\n",
    "Отчет должен приходить ежедневно в 11.00"
   ]
  },
  {
   "cell_type": "markdown",
   "metadata": {},
   "source": [
    "Для реализации поставленной задачи напишем DAG, который подгрузим в Apache Airflow. Данная программа позволит ежедневно в заданное время обрабатывать скрипт и запускать рассылку с использованием телеграм-бота."
   ]
  },
  {
   "cell_type": "code",
   "execution_count": null,
   "metadata": {},
   "outputs": [],
   "source": [
    "#импортируем необходимые библиотеки\n",
    "import requests\n",
    "import json\n",
    "from urllib.parse import urlencode\n",
    "import pandahouse\n",
    "import seaborn as sns \n",
    "import io\n",
    "import matplotlib.pyplot as plt\n",
    "from airflow.decorators import dag, task\n",
    "from airflow.operators.python import get_current_context\n",
    "from airflow.models import Variable\n",
    "from datetime import timedelta\n",
    "from datetime import datetime"
   ]
  },
  {
   "cell_type": "code",
   "execution_count": 55,
   "metadata": {},
   "outputs": [],
   "source": [
    "#зададим параметры DAG\n",
    "    default_args = {\n",
    "    'owner': 'a-lelkova',\n",
    "    'depends_on_past': False,\n",
    "    'retries': 3,\n",
    "    'retry_delay': timedelta(minutes=5),\n",
    "    'start_date': datetime(2024, 8, 27)   \n",
    "}"
   ]
  },
  {
   "cell_type": "markdown",
   "metadata": {},
   "source": [
    "Перед написанием скрипта в телеграм создадим бота, дадим ему имя и уникальный никнейм, запустим его и скопируем token.\n",
    "\n",
    "Чтобы узнать id необходимого чата, в строку поиска браузера вставим https://api.telegram.org/bot{token}/getUpdates и подставим token нашего бота.\n",
    "\n",
    "В открывшемся окне будет содержание json файла, где будет содержаться id чата (result > 0 > chat > id)."
   ]
  },
  {
   "cell_type": "code",
   "execution_count": 56,
   "metadata": {},
   "outputs": [],
   "source": [
    "#напишем скрипт для подсчета и визуализации необходимых данных и оформим его в DAG\n",
    "@dag('lelkova_report_DAG',default_args=default_args, schedule_interval='0 11 * * *', catchup=False)\n",
    "def lelkova_report_DAG():\n",
    "    #все расчеты будут производится в рамках одного таска \n",
    "    @task(retries=3)\n",
    "    #зададим функцию, которая будет собирать наш отчет\n",
    "    def report(chat = None):\n",
    "        # укажем id чата, в который нужно будет направлять рассылку\n",
    "        chat_id =  chat or 432320975\n",
    "        #token нашего бота\n",
    "        token = '7189949223:AAFbFkFXxHtw8oq3C2JbYHFqgI5eqccInnM'\n",
    "\n",
    "\n",
    "        #параметры подключения к clickhouse\n",
    "        connection = {\n",
    "                        'host': 'https://clickhouse.lab.karpov.courses',\n",
    "                        'password': 'dpo_python_2020',\n",
    "                        'user': 'student',\n",
    "                        'database': 'simulator_20240620'\n",
    "                    }\n",
    "        #импорт данных из clickhouse\n",
    "        q = '''\n",
    "            SELECT DAU,\n",
    "                   likes,\n",
    "                   views,\n",
    "                   likes/views as CTR\n",
    "            FROM\n",
    "                (SELECT \n",
    "                    sum(distinct(user_id)) as DAU,\n",
    "                    sum(action = 'like') as likes,\n",
    "                    sum(action = 'view') as views\n",
    "\n",
    "                FROM simulator_20240620.feed_actions\n",
    "                WHERE toDate(time) = yesterday()\n",
    "                )\n",
    "            '''\n",
    "\n",
    "        df = pandahouse.read_clickhouse(q, connection=connection)\n",
    "        #расчет метрик\n",
    "        DAU = df.DAU.iloc[0]\n",
    "        likes = df.likes.iloc[0]\n",
    "        views = df.views.iloc[0]\n",
    "        CTR = df.CTR.iloc[0]\n",
    "        #пишем текст для рассылки\n",
    "        msg = f\"Добрый день! \\nОсновные метрики за вчера: \\nDAU = {DAU} чел., \\nlikes = {likes},  \\nviews = {views}, \\nCTR = {CTR}.\"\n",
    "        #задаем параметры\n",
    "        params = {'chat_id': chat_id, 'text': msg}\n",
    "\n",
    "        base_url = f'https://api.telegram.org/bot7189949223:AAFbFkFXxHtw8oq3C2JbYHFqgI5eqccInnM/'\n",
    "        url = base_url + 'sendMessage?' + urlencode(params)\n",
    "        #отправляем в чат\n",
    "        resp = requests.get(url)\n",
    "        #импорт данных из clickhouse\n",
    "        DAU = '''\n",
    "            SELECT \n",
    "                toDate(time) as date,\n",
    "                sum(distinct(user_id)) as DAU\n",
    "            FROM simulator_20240620.feed_actions\n",
    "            WHERE toDate(time) >= today() - INTERVAL 6 DAY\n",
    "            group by date\n",
    "\n",
    "            '''\n",
    "\n",
    "        DAU_df = pandahouse.read_clickhouse(DAU, connection=connection)\n",
    "        #строим график DAU за предыдущую неделю и сохраняем в BytesIO\n",
    "        sns.lineplot(data=DAU_df, x='date', y='DAU')\n",
    "        plot_object = io.BytesIO()\n",
    "        plt.savefig(plot_object)\n",
    "        plot_object.seek(0)\n",
    "        plot_object.name = 'DAU.png'\n",
    "        plt.close()\n",
    "\n",
    "        url = base_url + 'sendPhoto?' + urlencode(params)\n",
    "\n",
    "        # Отправка изображения из BytesIO\n",
    "        files = {'photo': plot_object}  \n",
    "        response = requests.post(url, files=files)\n",
    "\n",
    "    report()"
   ]
  },
  {
   "cell_type": "code",
   "execution_count": 57,
   "metadata": {},
   "outputs": [],
   "source": [
    "lelkova_report_DAG = lelkova_report_DAG()"
   ]
  },
  {
   "cell_type": "markdown",
   "metadata": {},
   "source": [
    "После загрузки данного файла в формате .py через репозиторий в Airflow скрипт будет отрабатываться ежедневно в 11.00. Телеграм бот будет направлять рассылку с основными метриками и графиком в указанный чат."
   ]
  },
  {
   "cell_type": "code",
   "execution_count": null,
   "metadata": {},
   "outputs": [],
   "source": []
  }
 ],
 "metadata": {
  "kernelspec": {
   "display_name": "Python 3",
   "language": "python",
   "name": "python3"
  },
  "language_info": {
   "codemirror_mode": {
    "name": "ipython",
    "version": 3
   },
   "file_extension": ".py",
   "mimetype": "text/x-python",
   "name": "python",
   "nbconvert_exporter": "python",
   "pygments_lexer": "ipython3",
   "version": "3.7.3"
  }
 },
 "nbformat": 4,
 "nbformat_minor": 4
}
