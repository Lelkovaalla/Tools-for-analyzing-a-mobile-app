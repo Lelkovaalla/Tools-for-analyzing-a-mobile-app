{
 "cells": [
  {
   "cell_type": "markdown",
   "metadata": {},
   "source": [
    "###  Оценка влияние новых алгоритмов рекомендаций постов в ленте новостей с помощью А/В тестирования\n",
    "\n",
    "Команда ML сделала новый алгоритм рекомендаций новостей в ленте. Теперь пользователю предлагаются посты, которые лайкали похожие на него пользователи. Ожидается, что новые алгоритмы сделают пользователей счастливее, а продукт удобнее/приятнее в использовании. \n",
    "\n",
    "Пользователи были разбиты на 5 групп. \n",
    "\n",
    "В период с 8 по 14 июля проводился АА-тест на пользователях 2 и 3 контрольных групп с целью проверки корректности работы системы сплитования.\n",
    "\n",
    "В период с 15 по 21 июля проводился АБ-тест, где 2 группа была тестовой, а 1 - была использована в качестве контроля. \n",
    "\n",
    "Задачи: \n",
    "- проверить корректность работы системы сплитования, \n",
    "- проанализировать данные АB-теста, \n",
    "- сделать выыод о целесообразности раскатки нового алгоритма на всех пользователей."
   ]
  },
  {
   "cell_type": "markdown",
   "metadata": {},
   "source": [
    "####  Выбор метрики и постановка гипотезы"
   ]
  },
  {
   "cell_type": "markdown",
   "metadata": {},
   "source": [
    "В качестве метрики для оценки эффекта от нового алгоритма рекомендаций в данном кейсе будет использована CTR из просмотров в лайки. Данная метрика выбрана т.к. есть явное действие, которое показывает заинтересованность – лайк; это стандартная метрика.\n",
    "\n",
    "Основная гипотеза заключается в том, что новый алгоритм во 2-й группе приведет к увеличению CTR: \n",
    "- Нулевая гипотеза: различий между тестовой и контрольной группой нет.\n",
    "- Альтернативная гипотеза: различия между тестовой и контрольной группой есть."
   ]
  },
  {
   "cell_type": "code",
   "execution_count": 3,
   "metadata": {},
   "outputs": [],
   "source": [
    "#импорт необходимых библиотек\n",
    "import pandahouse\n",
    "import hashlib \n",
    "import pandas as pd\n",
    "import seaborn as sns\n",
    "from scipy import stats\n",
    "import numpy as np\n",
    "import matplotlib.pyplot as plt"
   ]
  },
  {
   "cell_type": "code",
   "execution_count": 4,
   "metadata": {},
   "outputs": [],
   "source": [
    "#задаем параметры подключения к clickhouse\n",
    "connection = {\n",
    "    'host': 'https://clickhouse.lab.karpov.courses',\n",
    "    'password': 'dpo_python_2020',\n",
    "    'user': 'student',\n",
    "    'database': 'simulator_20240620'\n",
    "}"
   ]
  },
  {
   "cell_type": "markdown",
   "metadata": {},
   "source": [
    "#### А/A тестирование (данные эксперимента 08.07.2024- 14.07.2024)"
   ]
  },
  {
   "cell_type": "code",
   "execution_count": 5,
   "metadata": {},
   "outputs": [],
   "source": [
    "#импортируем данные из clickhouse\n",
    "q = \"\"\"\n",
    "SELECT exp_group,\n",
    "    user_id,\n",
    "    sum(action = 'like') as likes,\n",
    "    sum(action = 'view') as views,\n",
    "    likes/views as ctr\n",
    "FROM {db}.feed_actions\n",
    "WHERE toDate(time) >= '2024-07-08' and toDate(time) <= '2024-07-14'\n",
    "    and exp_group in (2,3)\n",
    "group by exp_group, user_id\n",
    "\"\"\"\n",
    "\n",
    "AA = pandahouse.read_clickhouse(q, connection=connection)"
   ]
  },
  {
   "cell_type": "code",
   "execution_count": 6,
   "metadata": {},
   "outputs": [
    {
     "data": {
      "text/html": [
       "<div>\n",
       "<style scoped>\n",
       "    .dataframe tbody tr th:only-of-type {\n",
       "        vertical-align: middle;\n",
       "    }\n",
       "\n",
       "    .dataframe tbody tr th {\n",
       "        vertical-align: top;\n",
       "    }\n",
       "\n",
       "    .dataframe thead th {\n",
       "        text-align: right;\n",
       "    }\n",
       "</style>\n",
       "<table border=\"1\" class=\"dataframe\">\n",
       "  <thead>\n",
       "    <tr style=\"text-align: right;\">\n",
       "      <th></th>\n",
       "      <th>user_id</th>\n",
       "      <th>likes</th>\n",
       "      <th>views</th>\n",
       "      <th>ctr</th>\n",
       "    </tr>\n",
       "    <tr>\n",
       "      <th>exp_group</th>\n",
       "      <th></th>\n",
       "      <th></th>\n",
       "      <th></th>\n",
       "      <th></th>\n",
       "    </tr>\n",
       "  </thead>\n",
       "  <tbody>\n",
       "    <tr>\n",
       "      <th>2</th>\n",
       "      <td>16117</td>\n",
       "      <td>16117</td>\n",
       "      <td>16117</td>\n",
       "      <td>16117</td>\n",
       "    </tr>\n",
       "    <tr>\n",
       "      <th>3</th>\n",
       "      <td>16240</td>\n",
       "      <td>16240</td>\n",
       "      <td>16240</td>\n",
       "      <td>16240</td>\n",
       "    </tr>\n",
       "  </tbody>\n",
       "</table>\n",
       "</div>"
      ],
      "text/plain": [
       "           user_id  likes  views    ctr\n",
       "exp_group                              \n",
       "2            16117  16117  16117  16117\n",
       "3            16240  16240  16240  16240"
      ]
     },
     "execution_count": 6,
     "metadata": {},
     "output_type": "execute_result"
    }
   ],
   "source": [
    "#посчитаем, сколько пользователей попало в каждую группу\n",
    "AA.groupby('exp_group').count()"
   ]
  },
  {
   "cell_type": "code",
   "execution_count": 7,
   "metadata": {},
   "outputs": [
    {
     "data": {
      "image/png": "[encoded data removed]",
      "text/plain": [
       "<Figure size 842.4x595.44 with 1 Axes>"
      ]
     },
     "metadata": {},
     "output_type": "display_data"
    }
   ],
   "source": [
    "#визуально оценим распределение метрики по группам\n",
    "sns.set(rc={'figure.figsize':(11.7,8.27)})\n",
    "groups = sns.histplot(data = AA, x = 'ctr', hue = 'exp_group', palette = ['y', 'b'], kde = False)"
   ]
  },
  {
   "cell_type": "markdown",
   "metadata": {},
   "source": [
    "Сделаем симуляцию, как будто мы провели 10000 АА-тестов. На каждой итерации сформируем подвыборки без повторения в 500 юзеров из 2 и 3 экспериментальной группы. Сравним подвыборки t-testом. "
   ]
  },
  {
   "cell_type": "markdown",
   "metadata": {},
   "source": [
    "Нулевая и альтернативна гипотезы для  t-testа:\n",
    "- Нулевая гипотеза H0 : μ1 = μ2\n",
    "- Альтернативная гипотеза H1 : μ1 != μ2"
   ]
  },
  {
   "cell_type": "code",
   "execution_count": 8,
   "metadata": {},
   "outputs": [],
   "source": [
    "\n",
    "p_values = []\n",
    "\n",
    "for _ in range(10000):\n",
    "    #случайная выборка 500 пользователей из группы 2\n",
    "    sample_A = AA[AA.exp_group == 2].sample(n=500, replace=False)\n",
    "    #случайная выборка 500 пользователей из группы 3\n",
    "    sample_B = AA[AA.exp_group == 3].sample(n=500, replace=False)\n",
    "    #сравнение t-testом\n",
    "    stats.ttest_ind(sample_A.ctr, sample_B.ctr)\n",
    "    t_statistic, p_value = stats.ttest_ind(sample_A.ctr, sample_B.ctr)\n",
    "    #добавление результатов в список\n",
    "    p_values.append(p_value)"
   ]
  },
  {
   "cell_type": "code",
   "execution_count": 9,
   "metadata": {},
   "outputs": [],
   "source": [
    "#подсчитаем количество p-значений меньше 0.05\n",
    "results = np.sum(np.array(p_values) < 0.05)"
   ]
  },
  {
   "cell_type": "code",
   "execution_count": 10,
   "metadata": {},
   "outputs": [
    {
     "name": "stdout",
     "output_type": "stream",
     "text": [
      "Доля статистически значимых результатов: 4.70%\n"
     ]
    }
   ],
   "source": [
    "print(f'Доля статистически значимых результатов: {results / 10000 * 100:.2f}%')"
   ]
  },
  {
   "cell_type": "code",
   "execution_count": 11,
   "metadata": {},
   "outputs": [
    {
     "data": {
      "image/png": "[encoded data removed]",
      "text/plain": [
       "<Figure size 720x432 with 1 Axes>"
      ]
     },
     "metadata": {},
     "output_type": "display_data"
    }
   ],
   "source": [
    "#построим график распределения получившихся 10000 p-values\n",
    "plt.figure(figsize=(10, 6))\n",
    "sns.histplot(p_values, bins=30, kde=True, color='blue', stat='density')\n",
    "plt.axvline(x=0.05, color='red', linestyle='--', label='α = 0.05')\n",
    "plt.legend()\n",
    "plt.grid()\n",
    "plt.show()"
   ]
  },
  {
   "cell_type": "markdown",
   "metadata": {},
   "source": [
    "Наша система сплитования работает корректно, т.к. при проведении множественных АА-тестов между группами 2 и 3 лишь в 5% случаев наблюдаются статистически значимые отличия, что соответсвует заданному уровню значимости 0,05"
   ]
  },
  {
   "cell_type": "markdown",
   "metadata": {},
   "source": [
    "#### А/B тестирование (данные эксперимента 15.07.2024- 21.07.2024)"
   ]
  },
  {
   "cell_type": "code",
   "execution_count": 12,
   "metadata": {},
   "outputs": [],
   "source": [
    "#импортируем данные из clickhouse\n",
    "q = \"\"\"\n",
    "SELECT exp_group,\n",
    "    user_id,\n",
    "    sum(action = 'like') as likes,\n",
    "    sum(action = 'view') as views,\n",
    "    likes/views as ctr\n",
    "FROM {db}.feed_actions\n",
    "WHERE toDate(time) >= '2024-07-15' and toDate(time) <= '2024-07-21'\n",
    "    and exp_group in (1,2)\n",
    "group by exp_group, user_id\n",
    "\"\"\"\n",
    "\n",
    "AB = pandahouse.read_clickhouse(q, connection=connection)"
   ]
  },
  {
   "cell_type": "markdown",
   "metadata": {},
   "source": [
    "#### T-test"
   ]
  },
  {
   "cell_type": "markdown",
   "metadata": {},
   "source": [
    "Нулевая и альтернативна гипотезы для  t-testа:\n",
    "- Нулевая гипотеза H0 : μ1 = μ2\n",
    "- Альтернативная гипотеза H1 : μ1 != μ2"
   ]
  },
  {
   "cell_type": "code",
   "execution_count": 13,
   "metadata": {},
   "outputs": [
    {
     "data": {
      "text/plain": [
       "<matplotlib.axes._subplots.AxesSubplot at 0x7f156e0d5978>"
      ]
     },
     "execution_count": 13,
     "metadata": {},
     "output_type": "execute_result"
    },
    {
     "data": {
      "image/png": "[encoded data removed]",
      "text/plain": [
       "<Figure size 842.4x595.44 with 1 Axes>"
      ]
     },
     "metadata": {},
     "output_type": "display_data"
    }
   ],
   "source": [
    "#визуально оценим распределение метрики по группам\n",
    "groups = sns.histplot(data = AB, x = 'ctr', hue = 'exp_group', palette = ['y', 'b'], kde = False)\n",
    "groups"
   ]
  },
  {
   "cell_type": "code",
   "execution_count": 14,
   "metadata": {},
   "outputs": [
    {
     "data": {
      "text/plain": [
       "Ttest_indResult(statistic=-0.22948968753876192, pvalue=0.8184897740530461)"
      ]
     },
     "execution_count": 14,
     "metadata": {},
     "output_type": "execute_result"
    }
   ],
   "source": [
    "#сравнение t-testом\n",
    "stats.ttest_ind(AB[AB.exp_group == 1].ctr, AB[AB.exp_group == 2].ctr, equal_var=False)"
   ]
  },
  {
   "cell_type": "markdown",
   "metadata": {},
   "source": [
    "По итогам сравнения двух выборок T-testом - нулевая гипотеза не может быть отклонена, соответсвенно статистически значимых различий между группами не зафиксировано."
   ]
  },
  {
   "cell_type": "markdown",
   "metadata": {},
   "source": [
    "#### Tест Манна-Уитни"
   ]
  },
  {
   "cell_type": "markdown",
   "metadata": {},
   "source": [
    "Нулевая и альтернативна гипотезы для Манна-Уитни:\n",
    "- Нулевая гипотеза H0 : P(X > Y ) = P(Y > X)\n",
    "- Альтернативная гипотеза H1 : P(X > Y ) != P(Y > X)\n",
    "\n",
    "Иными словами - вероятность того, что x из одной выборки больше y из второй выборки, равна вероятности, что у из одной выборки больше чем x из второй."
   ]
  },
  {
   "cell_type": "code",
   "execution_count": 15,
   "metadata": {},
   "outputs": [
    {
     "data": {
      "text/plain": [
       "MannwhitneyuResult(statistic=132830871.0, pvalue=0.8351884656786464)"
      ]
     },
     "execution_count": 15,
     "metadata": {},
     "output_type": "execute_result"
    }
   ],
   "source": [
    "#сравнение тестом Манна-Уитни\n",
    "stats.mannwhitneyu(AB[AB.exp_group == 1].ctr, AB[AB.exp_group == 2].ctr)"
   ]
  },
  {
   "cell_type": "code",
   "execution_count": 16,
   "metadata": {},
   "outputs": [
    {
     "name": "stdout",
     "output_type": "stream",
     "text": [
      "B 50.01 % случаев А > В.\n"
     ]
    }
   ],
   "source": [
    "#подсчитаем, в скольки % случаев случайный CTR из 1 группы больше чем лучайный CTR из 2 (Должно получится около 50%)\n",
    "A_B = 0\n",
    "for _ in range(10000):\n",
    "    A_B+= AB[AB.exp_group == 1].ctr.sample().values[0]>AB[AB.exp_group == 2].ctr.sample().values[0]\n",
    "print('B', A_B/100, '% случаев А > В.')"
   ]
  },
  {
   "cell_type": "markdown",
   "metadata": {},
   "source": [
    "По итогам сравнения двух выборок тестом Манна-Уитни - нулевая гипотеза не может быть отклонена, соответсвенно статистически значимых различий между группами не зафиксировано."
   ]
  },
  {
   "cell_type": "markdown",
   "metadata": {},
   "source": [
    "#### Сглаженный CTR"
   ]
  },
  {
   "cell_type": "markdown",
   "metadata": {},
   "source": [
    "У нас есть пользователи с небольшим количеством просмотров, а их CTR сильно зашумлен. Мы почти ничего не знаем о CTR\n",
    "пользователей, у которых всего 3 просмотра, независимо от количества их кликов.Если у пользователя много просмотров, мы можем быть уверены, что клики / просмотры — хорошая оценка его CTR, а когда у пользователя просмотров мало, мы устанавливаем в качестве оценки общегрупповой CTR.\n",
    "\n",
    "smoothed_CTRu = clicksu + α ∗ globalCTR/viewsu + α\n",
    "\n",
    "где α — гиперпараметр. "
   ]
  },
  {
   "cell_type": "code",
   "execution_count": 17,
   "metadata": {},
   "outputs": [],
   "source": [
    "#напишем функцию для подсчета сглаженного CTR\n",
    "def get_smothed_ctr(user_likes, user_views, global_ctr, alpha):\n",
    "    smothed_ctr = (user_likes + alpha * global_ctr)/(user_views+alpha)\n",
    "    return smothed_ctr"
   ]
  },
  {
   "cell_type": "code",
   "execution_count": 18,
   "metadata": {},
   "outputs": [],
   "source": [
    "#импортируем данные из clickhouse\n",
    "q = \"\"\"\n",
    "SELECT exp_group,\n",
    "    user_id,\n",
    "    sum(action = 'like') as likes,\n",
    "    sum(action = 'view') as views,\n",
    "    likes/views as ctr\n",
    "FROM {db}.feed_actions\n",
    "WHERE toDate(time) >= '2024-07-15' and toDate(time) <= '2024-07-21'\n",
    "    and exp_group in (1,2)\n",
    "group by exp_group, user_id\n",
    "\"\"\"\n",
    "\n",
    "data = pandahouse.read_clickhouse(q, connection=connection)"
   ]
  },
  {
   "cell_type": "code",
   "execution_count": 19,
   "metadata": {},
   "outputs": [],
   "source": [
    "#рассчитаем global_ctr для тестовой и контрольной групп\n",
    "global_ctr_1 = data[data.exp_group == 1].likes.sum()/data[data.exp_group == 1].views.sum()\n",
    "global_ctr_2 = data[data.exp_group == 2].likes.sum()/data[data.exp_group == 2].views.sum()"
   ]
  },
  {
   "cell_type": "code",
   "execution_count": 20,
   "metadata": {},
   "outputs": [
    {
     "name": "stderr",
     "output_type": "stream",
     "text": [
      "/opt/tljh/user/lib/python3.7/site-packages/seaborn/distributions.py:2557: FutureWarning: `distplot` is a deprecated function and will be removed in a future version. Please adapt your code to use either `displot` (a figure-level function with similar flexibility) or `histplot` (an axes-level function for histograms).\n",
      "  warnings.warn(msg, FutureWarning)\n"
     ]
    },
    {
     "data": {
      "text/plain": [
       "<matplotlib.axes._subplots.AxesSubplot at 0x7f156e02a780>"
      ]
     },
     "execution_count": 20,
     "metadata": {},
     "output_type": "execute_result"
    },
    {
     "data": {
      "image/png": "[encoded data removed]",
      "text/plain": [
       "<Figure size 842.4x595.44 with 1 Axes>"
      ]
     },
     "metadata": {},
     "output_type": "display_data"
    }
   ],
   "source": [
    "#отобразим распределение обычного ctr для тестовой и контрольной групп\n",
    "was_1 = data[data.exp_group == 1].copy()\n",
    "was_2 = data[data.exp_group == 2].copy()\n",
    "sns.distplot(was_1.ctr, kde = False)\n",
    "sns.distplot(was_2.ctr, kde = False)"
   ]
  },
  {
   "cell_type": "code",
   "execution_count": 21,
   "metadata": {
    "scrolled": false
   },
   "outputs": [
    {
     "data": {
      "text/plain": [
       "<matplotlib.axes._subplots.AxesSubplot at 0x7f156bba96a0>"
      ]
     },
     "execution_count": 21,
     "metadata": {},
     "output_type": "execute_result"
    },
    {
     "data": {
      "image/png": "[encoded data removed]",
      "text/plain": [
       "<Figure size 842.4x595.44 with 1 Axes>"
      ]
     },
     "metadata": {},
     "output_type": "display_data"
    }
   ],
   "source": [
    "#отобразим распределение сглаженного ctr для тестовой и контрольной групп\n",
    "was_1['smothed_ctr'] = data.apply(lambda x: get_smothed_ctr(x['likes'], x['views'], global_ctr_1, 5), axis = 1)\n",
    "was_2['smothed_ctr'] = data.apply(lambda x: get_smothed_ctr(x['likes'], x['views'], global_ctr_2, 5), axis = 1)\n",
    "sns.distplot(was_1.smothed_ctr, kde = False)\n",
    "sns.distplot(was_2.smothed_ctr, kde = False)"
   ]
  },
  {
   "cell_type": "code",
   "execution_count": 25,
   "metadata": {},
   "outputs": [
    {
     "data": {
      "text/plain": [
       "Ttest_indResult(statistic=-0.0024332039586025963, pvalue=0.9980586009245322)"
      ]
     },
     "execution_count": 25,
     "metadata": {},
     "output_type": "execute_result"
    }
   ],
   "source": [
    "#сравнение t-testом\n",
    "stats.ttest_ind(was_1.smothed_ctr, was_2.smothed_ctr, equal_var=False)"
   ]
  },
  {
   "cell_type": "markdown",
   "metadata": {},
   "source": [
    "По итогам сравнения двух выборок T-testом - нулевая гипотеза не может быть отклонена, соответсвенно статистически значимых различий между группами не зафиксировано."
   ]
  },
  {
   "cell_type": "markdown",
   "metadata": {},
   "source": [
    "#### Пуассоновский бутстреп"
   ]
  },
  {
   "cell_type": "code",
   "execution_count": 26,
   "metadata": {},
   "outputs": [],
   "source": [
    "#напишем функцию которая с помощью метода пуассоновского бутстрепа рассчитает глобальный CTR для тестовой и контрольной групп\n",
    "def bootstrap(likes1, views1, likes2, views2, n_bootstrap=2000):\n",
    "    poisson_bootstraps1 = stats.poisson(1).rvs((n_bootstrap, len(likes1))).astype(np.int64)\n",
    "    poisson_bootstraps2 = stats.poisson(1).rvs((n_bootstrap, len(likes2))).astype(np.int64)\n",
    "    globalCTR1 = (poisson_bootstraps1*likes1).sum(axis=1)/(poisson_bootstraps1*views1).sum(axis=1)\n",
    "    globalCTR2 = (poisson_bootstraps2*likes2).sum(axis=1)/(poisson_bootstraps2*views2).sum(axis=1)\n",
    "    \n",
    "    return globalCTR1, globalCTR2"
   ]
  },
  {
   "cell_type": "code",
   "execution_count": 27,
   "metadata": {},
   "outputs": [],
   "source": [
    "#импортируем данные из clickhouse\n",
    "q = \"\"\"\n",
    "SELECT exp_group,\n",
    "    user_id,\n",
    "    sum(action = 'like') as likes,\n",
    "    sum(action = 'view') as views,\n",
    "    likes/views as ctr\n",
    "FROM {db}.feed_actions\n",
    "WHERE toDate(time) >= '2024-07-15' and toDate(time) <= '2024-07-21'\n",
    "    and exp_group in (1,2)\n",
    "group by exp_group, user_id\n",
    "\"\"\"\n",
    "\n",
    "poi_bootstrap = pandahouse.read_clickhouse(q, connection=connection)"
   ]
  },
  {
   "cell_type": "code",
   "execution_count": 28,
   "metadata": {},
   "outputs": [],
   "source": [
    "#записываем лайки и просмотры тестовой и контрольной групп в переменные\n",
    "likes1 = poi_bootstrap[poi_bootstrap.exp_group ==1].likes.to_numpy()\n",
    "likes2 = poi_bootstrap[poi_bootstrap.exp_group ==2].likes.to_numpy()\n",
    "views1 = poi_bootstrap[poi_bootstrap.exp_group ==1].views.to_numpy()\n",
    "views2 = poi_bootstrap[poi_bootstrap.exp_group ==2].views.to_numpy()"
   ]
  },
  {
   "cell_type": "code",
   "execution_count": 35,
   "metadata": {},
   "outputs": [
    {
     "name": "stderr",
     "output_type": "stream",
     "text": [
      "/opt/tljh/user/lib/python3.7/site-packages/seaborn/distributions.py:2557: FutureWarning: `distplot` is a deprecated function and will be removed in a future version. Please adapt your code to use either `displot` (a figure-level function with similar flexibility) or `histplot` (an axes-level function for histograms).\n",
      "  warnings.warn(msg, FutureWarning)\n"
     ]
    },
    {
     "data": {
      "text/plain": [
       "<matplotlib.axes._subplots.AxesSubplot at 0x7f156e894828>"
      ]
     },
     "execution_count": 35,
     "metadata": {},
     "output_type": "execute_result"
    },
    {
     "data": {
      "image/png": "[encoded data removed]",
      "text/plain": [
       "<Figure size 842.4x595.44 with 1 Axes>"
      ]
     },
     "metadata": {},
     "output_type": "display_data"
    }
   ],
   "source": [
    "#и применяем функцию\n",
    "ctr1, ctr2 = bootstrap(likes1, views1, likes2, views2)\n",
    "#визуализируем распределение глобальных CTR для тестовой и контрольной групп\n",
    "sns.distplot(ctr1, kde=False)\n",
    "sns.distplot(ctr2, kde=False)"
   ]
  },
  {
   "cell_type": "markdown",
   "metadata": {},
   "source": [
    "Как видно на графике - распределения CTR тестовой и контрольной групп очень сильно пересекаются. "
   ]
  },
  {
   "cell_type": "code",
   "execution_count": 30,
   "metadata": {},
   "outputs": [
    {
     "data": {
      "text/plain": [
       "<matplotlib.axes._subplots.AxesSubplot at 0x7f156e8758d0>"
      ]
     },
     "execution_count": 30,
     "metadata": {},
     "output_type": "execute_result"
    },
    {
     "data": {
      "image/png": "[encoded data removed]",
      "text/plain": [
       "<Figure size 842.4x595.44 with 1 Axes>"
      ]
     },
     "metadata": {},
     "output_type": "display_data"
    }
   ],
   "source": [
    "#визуализируем распределение разниц глобальных CTR для тестовой и контрольной групп\n",
    "sns.histplot(ctr2-ctr1)"
   ]
  },
  {
   "cell_type": "markdown",
   "metadata": {},
   "source": [
    "Распределения разниц CTR тестовой и контрольной групп расположены вокруг нуля. Следовательно мы не можем говорить о значимых различиях между группами"
   ]
  },
  {
   "cell_type": "markdown",
   "metadata": {},
   "source": [
    "Чтобы понять имеют ли CTR в тестовой и контрольной группах статистически значимые различия были проведены несколько статистических тестов: t-тест, Пуассоновский бутстреп, тест Манна-Уитни а также t-тест на сглаженном ctr (α=5).\n",
    "Ни один из вышеперечисленных тестов не позволил нам отклонить нулевую гипотезу, таким образом CTR в тестовой и контрольной группах не имеют статистически значимых отличий.\n",
    "\n",
    "Исходя из результатов АБ-тестирования, можно сделать вывод, что раскатывать новый алгоритм рекомендации постов на всех пользователей не имеет смысла."
   ]
  },
  {
   "cell_type": "code",
   "execution_count": null,
   "metadata": {},
   "outputs": [],
   "source": []
  }
 ],
 "metadata": {
  "kernelspec": {
   "display_name": "Python 3",
   "language": "python",
   "name": "python3"
  },
  "language_info": {
   "codemirror_mode": {
    "name": "ipython",
    "version": 3
   },
   "file_extension": ".py",
   "mimetype": "text/x-python",
   "name": "python",
   "nbconvert_exporter": "python",
   "pygments_lexer": "ipython3",
   "version": "3.7.3"
  }
 },
 "nbformat": 4,
 "nbformat_minor": 4
}
